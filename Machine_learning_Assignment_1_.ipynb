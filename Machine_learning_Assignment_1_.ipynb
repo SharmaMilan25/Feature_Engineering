{
  "nbformat": 4,
  "nbformat_minor": 0,
  "metadata": {
    "colab": {
      "provenance": []
    },
    "kernelspec": {
      "name": "python3",
      "display_name": "Python 3"
    },
    "language_info": {
      "name": "python"
    }
  },
  "cells": [
    {
      "cell_type": "markdown",
      "source": [
        "#1. What is a parameter?"
      ],
      "metadata": {
        "id": "FEBVQuhVo0wi"
      }
    },
    {
      "cell_type": "markdown",
      "source": [
        "Ans1. In ML, a parameter is a variable that the model learns from training data (e.g., weights in linear regression).\n",
        "\n"
      ],
      "metadata": {
        "id": "9aQABPLvo02-"
      }
    },
    {
      "cell_type": "markdown",
      "source": [
        "#2. What is correlation?"
      ],
      "metadata": {
        "id": "9KoaB012o08P"
      }
    },
    {
      "cell_type": "markdown",
      "source": [
        "Correlation measures the strength and direction of a linear relationship between two variables. It ranges from -1 to +1.\n",
        "\n"
      ],
      "metadata": {
        "id": "b0XTAoQvo1AX"
      }
    },
    {
      "cell_type": "markdown",
      "source": [
        "#3. What does negative correlation mean?"
      ],
      "metadata": {
        "id": "GwSN3leEo1EL"
      }
    },
    {
      "cell_type": "markdown",
      "source": [
        "Negative correlation means that as one variable increases, the other decreases. A correlation of -1 indicates a perfect negative relationship.\n",
        "\n"
      ],
      "metadata": {
        "id": "5Ey-IW15o1Hw"
      }
    },
    {
      "cell_type": "markdown",
      "source": [
        "#4. Define Machine Learning. What are the main components in Machine Learning?\n"
      ],
      "metadata": {
        "id": "0EFjB0Qco1L2"
      }
    },
    {
      "cell_type": "markdown",
      "source": [
        "Machine Learning is a subset of AI where systems learn patterns from data and make predictions or decisions.\n",
        "Main components:\n",
        "\n",
        "* Data\n",
        "\n",
        "* Features\n",
        "\n",
        "* Model\n",
        "\n",
        "* Loss function\n",
        "\n",
        "* Optimizer\n",
        "\n",
        "* Evaluation metrics\n",
        "\n"
      ],
      "metadata": {
        "id": "1T2AT1fVo1QU"
      }
    },
    {
      "cell_type": "markdown",
      "source": [
        "#5. How does loss value help in determining whether the model is good or not?"
      ],
      "metadata": {
        "id": "_w9gmJ0Uo1UV"
      }
    },
    {
      "cell_type": "markdown",
      "source": [
        "The loss value quantifies the error between predicted and actual outputs. Lower loss = better model performance."
      ],
      "metadata": {
        "id": "VFFs303vo1Xx"
      }
    },
    {
      "cell_type": "markdown",
      "source": [
        "#6. What are continuous and categorical variables?"
      ],
      "metadata": {
        "id": "0sJR4CLWo1bi"
      }
    },
    {
      "cell_type": "markdown",
      "source": [
        "1. Continuous: Numeric values with infinite possibilities (e.g., height, price).\n",
        "\n",
        "2. Categorical: Discrete categories (e.g., gender, color).\n",
        "\n"
      ],
      "metadata": {
        "id": "kmNXglGSo1e2"
      }
    },
    {
      "cell_type": "markdown",
      "source": [
        "#7. How do we handle categorical variables in Machine Learning? What are the common techniques?"
      ],
      "metadata": {
        "id": "gLrjNS_jo1iQ"
      }
    },
    {
      "cell_type": "markdown",
      "source": [
        "Common techniques:\n",
        "\n",
        "* Label Encoding: Assigns a unique number to each category.\n",
        "\n",
        "* One-Hot Encoding: Converts categories into binary columns.\n",
        "\n",
        "* Ordinal Encoding: For ordered categories."
      ],
      "metadata": {
        "id": "5ZMN-GZPo1l6"
      }
    },
    {
      "cell_type": "markdown",
      "source": [
        "#8. What do you mean by training and testing a dataset?"
      ],
      "metadata": {
        "id": "BZE6_bMdo1pm"
      }
    },
    {
      "cell_type": "markdown",
      "source": [
        "* Training set: Data used to train the model.\n",
        "\n",
        "* Testing set: Data used to evaluate the model’s performance on unseen data."
      ],
      "metadata": {
        "id": "KpTzz33lrJVx"
      }
    },
    {
      "cell_type": "markdown",
      "source": [
        "**bold text**"
      ],
      "metadata": {
        "id": "gIr4GICdrJRq"
      }
    },
    {
      "cell_type": "markdown",
      "source": [
        "#9. What is sklearn.preprocessing?"
      ],
      "metadata": {
        "id": "4AfWJPk4rJMP"
      }
    },
    {
      "cell_type": "markdown",
      "source": [
        "A module in Scikit-learn with tools for:\n",
        "\n",
        "* Encoding\n",
        "\n",
        "* Scaling\n",
        "\n",
        "* Normalization\n",
        "\n",
        "* Imputation"
      ],
      "metadata": {
        "id": "RZnsX65FrJIj"
      }
    },
    {
      "cell_type": "markdown",
      "source": [
        "#10. What is a Test set?"
      ],
      "metadata": {
        "id": "vIY_pWlzrJE_"
      }
    },
    {
      "cell_type": "markdown",
      "source": [
        "A test set is a portion of the dataset kept aside to evaluate the trained model’s performance."
      ],
      "metadata": {
        "id": "HAbDAi5krJA2"
      }
    },
    {
      "cell_type": "markdown",
      "source": [
        "#11. How do we split data for model fitting (training and testing) in Python?"
      ],
      "metadata": {
        "id": "zWX3B4TmrI84"
      }
    },
    {
      "cell_type": "code",
      "source": [
        "#Using train_test_split from Scikit-learn:=\n",
        "     #from sklearn.model_selection import train_test_split\n",
        "     #X_train, X_test, y_train, y_test = train_test_split(X, y, test_size=0.2)"
      ],
      "metadata": {
        "id": "O9DPDJgDsS4M"
      },
      "execution_count": 4,
      "outputs": []
    },
    {
      "cell_type": "markdown",
      "source": [
        "#12. How do you approach a Machine Learning problem?"
      ],
      "metadata": {
        "id": "FMmk1YvDrIwG"
      }
    },
    {
      "cell_type": "markdown",
      "source": [
        "This can be from these given below:\n",
        "\n",
        "1. Understand the problem\n",
        "\n",
        "2. Collect and explore data\n",
        "\n",
        "3. Preprocess data (cleaning, encoding, scaling)\n",
        "\n",
        "4. Split data\n",
        "\n",
        "5. Choose and train a model\n",
        "\n",
        "6. Evaluate the model\n",
        "\n",
        "7. Tune hyperparameters\n",
        "\n",
        "8. Deploy the model"
      ],
      "metadata": {
        "id": "BEBUi5AarIqc"
      }
    },
    {
      "cell_type": "markdown",
      "source": [
        "#13. Why do we have to perform EDA before fitting a model to the data?"
      ],
      "metadata": {
        "id": "YiXw7HHLrIms"
      }
    },
    {
      "cell_type": "markdown",
      "source": [
        "Exploratory Data Analysis (EDA) helps understand data structure, detect missing values, outliers, and relationships. It guides preprocessing and model choice."
      ],
      "metadata": {
        "id": "A3MxkWWrtPSS"
      }
    },
    {
      "cell_type": "markdown",
      "source": [
        "#16. How can you find correlation between variables in Python?"
      ],
      "metadata": {
        "id": "6mOGncGUtPML"
      }
    },
    {
      "cell_type": "markdown",
      "source": [
        "Using pandas:\n",
        "\n",
        "python\n",
        "Copy\n",
        "Edit\n",
        "import pandas as pd\n",
        "df.corr()"
      ],
      "metadata": {
        "id": "tZetEXl8tPDO"
      }
    },
    {
      "cell_type": "markdown",
      "source": [
        "#17. What is causation? Explain the difference between correlation and causation with an example."
      ],
      "metadata": {
        "id": "maVTKXhEtO9q"
      }
    },
    {
      "cell_type": "markdown",
      "source": [
        "1. Causation: One variable directly affects another.\n",
        "\n",
        "2. Correlation: Variables move together, not necessarily due to cause.\n",
        "\n",
        "Example: Ice cream sales and drowning deaths are correlated (both increase in summer), but ice cream does not cause drowning."
      ],
      "metadata": {
        "id": "aWAyBhG4tO4z"
      }
    },
    {
      "cell_type": "markdown",
      "source": [
        "#18. What is an Optimizer? What are different types of optimizers? Explain each with an example."
      ],
      "metadata": {
        "id": "TTuF90UltO05"
      }
    },
    {
      "cell_type": "markdown",
      "source": [
        "An optimizer adjusts model parameters to minimize loss.\n",
        "\n",
        "Common optimizers:\n",
        "\n",
        "1. SGD (Stochastic Gradient Descent): Updates weights after each data point.\n",
        "\n",
        "2. Adam: Combines momentum and adaptive learning rates.\n",
        "\n",
        "3. RMSprop: Adapts learning rate using recent gradients.\n",
        "\n",
        "Example with TensorFlow/Keras:\n",
        "\n",
        "python\n",
        "Copy\n",
        "Edit\n",
        "optimizer = tf.keras.optimizers.Adam(learning_rate=0.001)"
      ],
      "metadata": {
        "id": "DZXdkim0tOv9"
      }
    },
    {
      "cell_type": "markdown",
      "source": [
        "#19. What is sklearn.linear_model?"
      ],
      "metadata": {
        "id": "Tbtlwjs0tM3-"
      }
    },
    {
      "cell_type": "markdown",
      "source": [
        "A Scikit-learn module that contains linear models like:\n",
        "\n",
        "* LinearRegression\n",
        "\n",
        "* LogisticRegression\n",
        "\n",
        "* Ridge\n",
        "\n",
        "* Lasso\n",
        "\n"
      ],
      "metadata": {
        "id": "Utu8Ojy6tNqF"
      }
    },
    {
      "cell_type": "markdown",
      "source": [
        "#20. What does model.fit() do? What arguments must be given?"
      ],
      "metadata": {
        "id": "Y7M3iYn1tOGD"
      }
    },
    {
      "cell_type": "markdown",
      "source": [
        "Trains the model using training data.\n",
        "\n",
        "* python\n",
        "Copy\n",
        "Edit\n",
        "model.fit(X_train, y_train)"
      ],
      "metadata": {
        "id": "2dVUQnTDvPSX"
      }
    },
    {
      "cell_type": "markdown",
      "source": [
        "#21. What does model.predict() do? What arguments must be given?"
      ],
      "metadata": {
        "id": "x6zzHH181ucj"
      }
    },
    {
      "cell_type": "markdown",
      "source": [
        "Makes predictions using the trained model.\n",
        "\n",
        "python\n",
        "Copy\n",
        "Edit\n",
        "predictions = model.predict(X_test)"
      ],
      "metadata": {
        "id": "k_J6tLUz2ozr"
      }
    },
    {
      "cell_type": "markdown",
      "source": [
        "#23. What is feature scaling? How does it help in Machine Learning?"
      ],
      "metadata": {
        "id": "eMmvbSlEvPNi"
      }
    },
    {
      "cell_type": "markdown",
      "source": [
        "Feature scaling standardizes or normalizes data. It ensures that all features contribute equally to the model (important for distance-based models like KNN, SVM)."
      ],
      "metadata": {
        "id": "HD0tAPkhxQlT"
      }
    },
    {
      "cell_type": "markdown",
      "source": [
        "#24. How do we perform scaling in Python?"
      ],
      "metadata": {
        "id": "45T3oNMAxSuR"
      }
    },
    {
      "cell_type": "markdown",
      "source": [
        "Using Scikit-learn:\n",
        "\n",
        "* python\n",
        "Copy\n",
        "Edit\n",
        "from sklearn.preprocessing import StandardScaler\n",
        "\n",
        "* scaler = StandardScaler()\n",
        "\n",
        "* X_scaled = scaler.fit_transform(X)"
      ],
      "metadata": {
        "id": "Shf8Zug-vPID"
      }
    },
    {
      "cell_type": "markdown",
      "source": [
        "#27. Explain data encoding?"
      ],
      "metadata": {
        "id": "YipBeArVwjlX"
      }
    },
    {
      "cell_type": "markdown",
      "source": [
        "Data encoding transforms categorical data into numerical form so it can be used in ML models.\n",
        "Common types:\n",
        "\n",
        "* Label encoding\n",
        "\n",
        "* One-hot encoding"
      ],
      "metadata": {
        "id": "dnqYnkJKwjgq"
      }
    },
    {
      "cell_type": "markdown",
      "source": [
        "#QS14, QS15, QS22, QS25, QS26  IS REPEATED QUESTION"
      ],
      "metadata": {
        "id": "kVEIL4UnwjWY"
      }
    }
  ]
}